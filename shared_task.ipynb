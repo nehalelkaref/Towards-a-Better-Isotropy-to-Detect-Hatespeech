{
  "cells": [
    {
      "cell_type": "code",
      "source": [
        "# pip install pyarabic"
      ],
      "metadata": {
        "id": "1lgZchK0HrfI"
      },
      "execution_count": null,
      "outputs": []
    },
    {
      "cell_type": "code",
      "source": [
        "# pip install transformers"
      ],
      "metadata": {
        "id": "bUPHJ_F6WErH"
      },
      "execution_count": null,
      "outputs": []
    },
    {
      "cell_type": "code",
      "execution_count": 57,
      "metadata": {
        "id": "S24hvx4reJdX"
      },
      "outputs": [],
      "source": [
        "from transformers import AutoTokenizer, AutoModel\n",
        "import torch\n",
        "import numpy as np\n",
        "import pandas as pd\n",
        "import pyarabic.araby as araby\n",
        "from torch.utils.data import TensorDataset, random_split\n",
        "from torch.utils.data import DataLoader, RandomSampler, SequentialSampler\n",
        "import re\n",
        "import torch.nn as nn\n",
        "from transformers import AdamW\n",
        "from tqdm import tqdm\n",
        "import random\n",
        "import gc\n",
        "from IPython.display import clear_output\n",
        "from sklearn.decomposition import PCA\n",
        "import scipy as sc\n",
        "import math as mt\n",
        "from scipy import cluster as clst"
      ]
    },
    {
      "cell_type": "code",
      "execution_count": 4,
      "metadata": {
        "id": "VaOozYg0fAnt"
      },
      "outputs": [],
      "source": [
        "train = pd.read_csv('/content/OSACT2022-sharedTask-train.txt',\n",
        "sep='\\t', names = ['index', 'tweet', 'offensive', 'hatespeech',\n",
        "                   'vulgar', 'violent'])\n",
        "dev = pd.read_csv('/content/OSACT2022-sharedTask-dev.txt',\n",
        "sep='\\t', names = ['index', 'tweet', 'offensive', 'hatespeech',\n",
        "                   'vulgar', 'violent'])"
      ]
    },
    {
      "cell_type": "code",
      "execution_count": 5,
      "metadata": {
        "id": "OdErVZNLmMyf",
        "colab": {
          "base_uri": "https://localhost:8080/",
          "height": 245,
          "referenced_widgets": [
            "dbc7976ca15c4b2593c03f6080d64d0a",
            "f7cb956bd6ce404996792ac0241bab0e",
            "dfad9e5a79e24771b06090e63ce25fb7",
            "2611852be6e64e22a25b9ff84ae45a68",
            "557955d060e24a5a8808b2cd7baf4b0c",
            "72ceb1bfc0994a8baf2bd6f88220fb45",
            "0ad3d9c39ac042fa9659f5c013311ec7",
            "4a3086143d2f4c1e850974b484f2231e",
            "1e259adb450b4732bccd63da9fffa395",
            "98b427cc897d4a6a9eed32ce9998194b",
            "d1fe610af6194281b0b4efdbfe33163e",
            "373e10b5aeb94b1f8bcf392094efbe34",
            "7265cc278cca49e2bf4a74cf3cd5d0c9",
            "4f0430ac41a44eae9cb4c9914fd800c7",
            "9f9bc26f32d744c4b7b310993e336188",
            "8da24c8d015440feb932128ff314037e",
            "59fe52c3a1d24a258cab536fd43b81af",
            "1891cc6f735e462c9edc4b5e276b2b6c",
            "32476acd5acd45d2a8fe8e1aa270f497",
            "fcfa4a7f0a154165afdc6e18c1a269b3",
            "f5bec8d70a3245919ceb12e36098d162",
            "52ec0b3d238d4a0d92b4c362802c80b5",
            "023d466ad9c6452e8c9193353d9abe3f",
            "06fa3e733cbd49f98ffc6a37c3d1751d",
            "3bf2d2df6e984148acbf59e0a44877c7",
            "9632ef5dd6614f08b042d54353845bd1",
            "ecf71a97dfbe46dc89d16d93817b8558",
            "1a836fbbd1be4995a0d3b91071403eae",
            "b68a07a816344713bb8739bcb34a44a4",
            "e8fc5c3de26d4c87a51e0fddbaa505f0",
            "713d921c57554b219672d08ee6c3886c",
            "231faf85ebd947948885320b17821420",
            "64868d026d1342fbb7bf0909452fb490",
            "a6d627e8d8b742d08c291339f3b3850e",
            "e61899b3c98b4a00be5fa4c365457c14",
            "20746f79eec44a9a977bd89a8ca3e83e",
            "a51336aa754a4efab43ea03ec2f5ce05",
            "258a1a2df3b34ed4ade4d4b153d9f080",
            "eb8bcef426b04965bca4d8f379a7b1e3",
            "f1c89302d50b46aba25633f45e45eaed",
            "83a9c610641d4e8b8ced3ba3f6f254eb",
            "8563f6d292114e389e617ab2ebb2a31c",
            "ba7ea0e61c6d44bbaa26c7b144c0d9d1",
            "e408b15598514f8f9947e9260a56f331",
            "64028cbcbd76439aa800e096ffb02652",
            "a281e8b3dd7c48ad9407e6647be5f52b",
            "75d419d06c444b089682429259eadd4d",
            "6e41ebf2a84e4349acecea9d99040874",
            "66f7efed771d4a54b2dfd84c0efdc685",
            "b5aafcf878c5421e88f1f67135f8274f",
            "f275a1e194614dd694ea8599d7e88503",
            "e27a3ecfe0e8446e98009dd8393c39ca",
            "5791b9cb1b5b4305beaeef5d0ddf64ec",
            "20ccbd2c19694387a46909557a688567",
            "2ec48f01af7342aca5233645f90e8657"
          ]
        },
        "outputId": "3a37a103-0132-4b9d-d262-40dad3af8d2f"
      },
      "outputs": [
        {
          "output_type": "display_data",
          "data": {
            "text/plain": [
              "Downloading:   0%|          | 0.00/376 [00:00<?, ?B/s]"
            ],
            "application/vnd.jupyter.widget-view+json": {
              "version_major": 2,
              "version_minor": 0,
              "model_id": "dbc7976ca15c4b2593c03f6080d64d0a"
            }
          },
          "metadata": {}
        },
        {
          "output_type": "display_data",
          "data": {
            "text/plain": [
              "Downloading:   0%|          | 0.00/701 [00:00<?, ?B/s]"
            ],
            "application/vnd.jupyter.widget-view+json": {
              "version_major": 2,
              "version_minor": 0,
              "model_id": "373e10b5aeb94b1f8bcf392094efbe34"
            }
          },
          "metadata": {}
        },
        {
          "output_type": "display_data",
          "data": {
            "text/plain": [
              "Downloading:   0%|          | 0.00/1.05M [00:00<?, ?B/s]"
            ],
            "application/vnd.jupyter.widget-view+json": {
              "version_major": 2,
              "version_minor": 0,
              "model_id": "023d466ad9c6452e8c9193353d9abe3f"
            }
          },
          "metadata": {}
        },
        {
          "output_type": "display_data",
          "data": {
            "text/plain": [
              "Downloading:   0%|          | 0.00/112 [00:00<?, ?B/s]"
            ],
            "application/vnd.jupyter.widget-view+json": {
              "version_major": 2,
              "version_minor": 0,
              "model_id": "a6d627e8d8b742d08c291339f3b3850e"
            }
          },
          "metadata": {}
        },
        {
          "output_type": "display_data",
          "data": {
            "text/plain": [
              "Downloading:   0%|          | 0.00/624M [00:00<?, ?B/s]"
            ],
            "application/vnd.jupyter.widget-view+json": {
              "version_major": 2,
              "version_minor": 0,
              "model_id": "64028cbcbd76439aa800e096ffb02652"
            }
          },
          "metadata": {}
        },
        {
          "output_type": "stream",
          "name": "stderr",
          "text": [
            "Some weights of the model checkpoint at UBC-NLP/MARBERT were not used when initializing BertModel: ['cls.predictions.transform.LayerNorm.bias', 'cls.predictions.transform.dense.weight', 'cls.predictions.transform.dense.bias', 'cls.predictions.bias', 'cls.seq_relationship.weight', 'cls.predictions.transform.LayerNorm.weight', 'cls.seq_relationship.bias', 'cls.predictions.decoder.weight']\n",
            "- This IS expected if you are initializing BertModel from the checkpoint of a model trained on another task or with another architecture (e.g. initializing a BertForSequenceClassification model from a BertForPreTraining model).\n",
            "- This IS NOT expected if you are initializing BertModel from the checkpoint of a model that you expect to be exactly identical (initializing a BertForSequenceClassification model from a BertForSequenceClassification model).\n"
          ]
        }
      ],
      "source": [
        "tokenizer = AutoTokenizer.from_pretrained('UBC-NLP/MARBERT')\n",
        "marbert = AutoModel.from_pretrained('UBC-NLP/MARBERT', output_hidden_states= True)"
      ]
    },
    {
      "cell_type": "markdown",
      "metadata": {
        "id": "fnbNqou-l2Ed"
      },
      "source": [
        "### Cleaning, Tokenization, Encoding"
      ]
    },
    {
      "cell_type": "code",
      "execution_count": 6,
      "metadata": {
        "id": "JASxFWJRiCvt"
      },
      "outputs": [],
      "source": [
        "def clean_data(tweet):\n",
        "    text = araby.strip_tashkeel(tweet)\n",
        "    text = araby.strip_tatweel(text)\n",
        "    clean_tweet = text.replace('@USER', '')\n",
        "    clean_tweet = clean_tweet.replace('URL', '')\n",
        "    clean_tweet=bytes(clean_tweet, 'utf-8').decode('utf-8','ignore')\n",
        "    clean_tweet = re.sub(r'[A-Z]+',' ', clean_tweet)\n",
        "    clean_tweet = clean_tweet.replace('>', '')\n",
        "    clean_tweet = clean_tweet.replace('<', '')\n",
        "    return clean_tweet"
      ]
    },
    {
      "cell_type": "code",
      "execution_count": 7,
      "metadata": {
        "id": "4xipnD6ZgNWD"
      },
      "outputs": [],
      "source": [
        "def get_max_len(tweets, tokenizer= tokenizer):\n",
        "    max_len = 0\n",
        "    for tweet in tweets:\n",
        "        tokens = tokenizer.encode(tweet, add_special_tokens = True)\n",
        "        max_len = max(max_len, len(tokens))\n",
        "    return max_len"
      ]
    },
    {
      "cell_type": "code",
      "execution_count": 8,
      "metadata": {
        "id": "kv-G1dE3mfUj"
      },
      "outputs": [],
      "source": [
        "def encode(tweets, max_len, tokenizer = tokenizer):\n",
        "    \n",
        "    input_ids = []\n",
        "    attention_masks = []\n",
        "    \n",
        "    for tweet in tweets:\n",
        "        encodings_dict = tokenizer.encode_plus(\n",
        "        tweet,\n",
        "        add_special_tokens = True,\n",
        "        max_length = max_len,\n",
        "        pad_to_max_length = True,\n",
        "        return_tensors = 'pt'\n",
        "    )\n",
        "        input_ids.append(encodings_dict['input_ids'])\n",
        "        attention_masks.append(encodings_dict['attention_mask'])\n",
        "\n",
        "  \n",
        "    input_tensor = torch.cat(input_ids, dim = 0)\n",
        "    attention_mask_tensor = torch.cat(attention_masks, dim = 0)\n",
        "    \n",
        "    return input_tensor, attention_mask_tensor\n",
        "\n"
      ]
    },
    {
      "cell_type": "code",
      "execution_count": 96,
      "metadata": {
        "id": "B4ABFsN4milt"
      },
      "outputs": [],
      "source": [
        "def create_dataloaders(input_ids, batch_size,\n",
        "                       attention_masks = None,\n",
        "                      labels = None):\n",
        "    \n",
        "    if(labels == None):\n",
        "      tensor_dataset = TensorDataset(input_ids, attention_masks)\n",
        "    else:\n",
        "      tensor_dataset = TensorDataset(input_ids, labels)\n",
        "\n",
        "\n",
        "    dataloader = DataLoader(\n",
        "        tensor_dataset,\n",
        "        shuffle = False,\n",
        "        batch_size = batch_size\n",
        "    )\n",
        "    \n",
        "    return dataloader"
      ]
    },
    {
      "cell_type": "code",
      "execution_count": 10,
      "metadata": {
        "id": "5UW9Wl8sAhgc"
      },
      "outputs": [],
      "source": [
        "labels_dict = {\n",
        "    'OFF':1,\n",
        "    'NOT_OFF':0\n",
        "}"
      ]
    },
    {
      "cell_type": "code",
      "execution_count": 11,
      "metadata": {
        "id": "4NceqPHqAJhE"
      },
      "outputs": [],
      "source": [
        "def create_labels(hatespeech_labels, labels_dict = labels_dict):\n",
        "    labels = []\n",
        "    for label in hatespeech_labels:\n",
        "        \n",
        "        label_value = labels_dict[label]\n",
        "        labels.append(label_value)\n",
        "            \n",
        "    labels_tensor = torch.Tensor(labels)\n",
        "    labels_tensor = labels_tensor.long()\n",
        " \n",
        "    return labels_tensor"
      ]
    },
    {
      "cell_type": "code",
      "execution_count": 12,
      "metadata": {
        "id": "QqoMTpbGKQ4v"
      },
      "outputs": [],
      "source": [
        "## bad tweet\n",
        "train.tweet.iloc[7394]\n",
        "train.drop(index = 7394, inplace = True)"
      ]
    },
    {
      "cell_type": "code",
      "execution_count": 13,
      "metadata": {
        "id": "n1TItWjlmlb1"
      },
      "outputs": [],
      "source": [
        "train['tweet'] = train['tweet'].apply(clean_data)\n",
        "dev['tweet'] = dev['tweet'].apply(clean_data)\n",
        "\n",
        "train_tweets = list(train['tweet'].values)\n",
        "train_max_len = get_max_len(train_tweets)\n",
        "\n",
        "dev_tweets = list(dev['tweet'].values)\n",
        "dev_max_len = get_max_len(dev_tweets)"
      ]
    },
    {
      "cell_type": "code",
      "execution_count": 14,
      "metadata": {
        "id": "udEZe0PyASBX"
      },
      "outputs": [],
      "source": [
        "off_labels_train = train.offensive.values\n",
        "off_labels_dev = dev.offensive.values\n",
        "\n",
        "labels_train = create_labels(off_labels_train)\n",
        "labels_dev = create_labels(off_labels_dev)"
      ]
    },
    {
      "cell_type": "code",
      "execution_count": 15,
      "metadata": {
        "id": "jiu6JvSenDQ0",
        "colab": {
          "base_uri": "https://localhost:8080/"
        },
        "outputId": "721c145a-ae58-4027-ac67-304e2dde215e"
      },
      "outputs": [
        {
          "output_type": "stream",
          "name": "stderr",
          "text": [
            "Truncation was not explicitly activated but `max_length` is provided a specific value, please use `truncation=True` to explicitly truncate examples to max length. Defaulting to 'longest_first' truncation strategy. If you encode pairs of sequences (GLUE-style) with the tokenizer you can select this strategy more precisely by providing a specific strategy to `truncation`.\n",
            "/usr/local/lib/python3.7/dist-packages/transformers/tokenization_utils_base.py:2291: FutureWarning: The `pad_to_max_length` argument is deprecated and will be removed in a future version, use `padding=True` or `padding='longest'` to pad to the longest sequence in the batch, or use `padding='max_length'` to pad to a max length. In this case, you can give a specific length with `max_length` (e.g. `max_length=45`) or leave max_length to None to pad to the maximal input size of the model (e.g. 512 for Bert).\n",
            "  FutureWarning,\n"
          ]
        }
      ],
      "source": [
        "train_input, train_mask = encode(train_tweets, train_max_len)\n",
        "dev_input, dev_mask = encode(train_tweets, dev_max_len)\n"
      ]
    },
    {
      "cell_type": "markdown",
      "metadata": {
        "id": "_YG6bsUXpKHF"
      },
      "source": [
        "### Evaluating Marbert's Isotropy"
      ]
    },
    {
      "cell_type": "code",
      "execution_count": 78,
      "metadata": {
        "id": "rJ20ovdJpy11"
      },
      "outputs": [],
      "source": [
        "def extract_features(dataloader, sequence_length):\n",
        "\n",
        "  features = []\n",
        "\n",
        "  loop = tqdm(dataloader)\n",
        "  idx=0\n",
        "  for batch in loop:\n",
        "    if(idx ==2 ):\n",
        "      break\n",
        "    with torch.no_grad():\n",
        "\n",
        "      input_ids = batch[0]\n",
        "      attention_mask_train = batch[1]\n",
        "      output = marbert(input_ids, attention_mask= attention_mask_train)[0]\n",
        "      \n",
        "      output = np.asarray(output.cpu().numpy()).reshape((-1, sequence_length, 768))\n",
        "      \n",
        "      for feature_id in range(0, output.shape[0]):\n",
        "        features.append(output[feature_id].reshape(sequence_length,768))\n",
        "      \n",
        "      idx+=1\n",
        "   \n",
        "        \n",
        "  features = np.asarray(features).reshape((-1, 768))\n",
        "\n",
        "\n",
        "  return features"
      ]
    },
    {
      "cell_type": "code",
      "execution_count": 19,
      "metadata": {
        "id": "Gz2gd6FsjO4g"
      },
      "outputs": [],
      "source": [
        "## code cell originally by Sara Rajaee source:\n",
        "# https://github.com/Sara-Rajaee/clusterbased_isotropy_enhancement/\n",
        "\n",
        "def isotropy(representations):\n",
        "    eig_values, eig_vectors = np.linalg.eig(np.matmul(np.transpose(representations),\n",
        "                                                      representations))\n",
        "    max_f = -mt.inf\n",
        "    min_f =  mt.inf\n",
        "\n",
        "    for i in range(eig_vectors.shape[1]):\n",
        "        f = np.matmul(representations, np.expand_dims(eig_vectors[:, i], 1))\n",
        "        f = np.sum(np.exp(f))\n",
        "\n",
        "        min_f = min(min_f, f)\n",
        "        max_f = max(max_f, f)\n",
        "\n",
        "    isotropy = min_f / max_f\n",
        "\n",
        "    return isotropy"
      ]
    },
    {
      "cell_type": "code",
      "execution_count": null,
      "metadata": {
        "id": "fKyUwfZ7jRq2"
      },
      "outputs": [],
      "source": [
        "train_dataloader = create_dataloaders(train_input, train_mask, batch_size = 1)\n",
        "train_features= extract_features(train_dataloader, train_max_len)\n"
      ]
    },
    {
      "cell_type": "code",
      "execution_count": null,
      "metadata": {
        "id": "GiThxwlkjRnA"
      },
      "outputs": [],
      "source": [
        "original_isotropy_value = isotropy(train_features)\n",
        "print(original_isotropy_value)"
      ]
    },
    {
      "cell_type": "markdown",
      "metadata": {
        "id": "RlvgPILgkBMp"
      },
      "source": [
        "### Make Representations Isotropic"
      ]
    },
    {
      "cell_type": "code",
      "execution_count": 56,
      "metadata": {
        "id": "U28KtotojCar"
      },
      "outputs": [],
      "source": [
        "def cluster_based(representations, n_cluster: int, n_pc: int):\n",
        "\n",
        "\n",
        "  centroid, label=clst.vq.kmeans2(representations, n_cluster, minit='points',\n",
        "                                  missing='warn', check_finite=True)\n",
        "  cluster_mean=[]\n",
        "  for i in range(max(label)+1):\n",
        "    sum=np.zeros([1,768]);\n",
        "    for j in np.nonzero(label == i)[0]:\n",
        "      sum=np.add(sum, representations[j])\n",
        "    cluster_mean.append(sum/len(label[label == i]))\n",
        "\n",
        "  zero_mean_representation=[]\n",
        "  for i in range(len(representations)):\n",
        "    zero_mean_representation.append((representations[i])-cluster_mean[label[i]])\n",
        "\n",
        "  cluster_representations={}\n",
        "  for i in range(n_cluster):\n",
        "    cluster_representations.update({i:{}})\n",
        "    for j in range(len(representations)):\n",
        "      if (label[j]==i):\n",
        "        cluster_representations[i].update({j:zero_mean_representation[j]})\n",
        "\n",
        "  cluster_representations2=[]\n",
        "  for j in range(n_cluster):\n",
        "    cluster_representations2.append([])\n",
        "    for key, value in cluster_representations[j].items():\n",
        "      cluster_representations2[j].append(value)\n",
        "\n",
        "  cluster_representations2=np.array(cluster_representations2)\n",
        "\n",
        "  model=PCA()\n",
        "  post_rep=np.zeros((representations.shape[0],representations.shape[1]))\n",
        "\n",
        "  for i in range(n_cluster):\n",
        "      model.fit(np.array(cluster_representations2[i]).reshape((-1,768)))\n",
        "      component = np.reshape(model.components_, (-1, 768))\n",
        "\n",
        "      for index in cluster_representations[i]:\n",
        "        sum_vec = np.zeros((1, 768))\n",
        "\n",
        "        for j in range(n_pc):\n",
        "                sum_vec = sum_vec + np.dot(cluster_representations[i][index],\n",
        "                          np.transpose(component)[:,j].reshape((768,1))) * component[j]\n",
        "        \n",
        "        post_rep[index]=cluster_representations[i][index] - sum_vec\n",
        "\n",
        "  clear_output()\n",
        "\n",
        "  return post_rep\n"
      ]
    },
    {
      "cell_type": "code",
      "source": [
        "dev_dataloader = create_dataloaders(dev_input, dev_mask, batch_size = 1)\n",
        "dev_features = extract_features(dev_dataloader, train_max_len)"
      ],
      "metadata": {
        "id": "nuJaGIVGJRrZ"
      },
      "execution_count": null,
      "outputs": []
    },
    {
      "cell_type": "code",
      "source": [
        "iso_train_rep = list(cluster_based(train_features,\n",
        "                                          n_cluster = 10, n_pc= 8))\n",
        "\n",
        "iso_dev_rep = list(cluster_based(np.asarray(dev_features),\n",
        "                                          n_cluster = 10, n_pc= 8))"
      ],
      "metadata": {
        "id": "U5iXBlHXOYbG"
      },
      "execution_count": 91,
      "outputs": []
    },
    {
      "cell_type": "markdown",
      "source": [
        "### Hate Speech Classification"
      ],
      "metadata": {
        "id": "hCKbSrl_T_bY"
      }
    },
    {
      "cell_type": "markdown",
      "metadata": {
        "id": "ZdEh2YbX0h4A"
      },
      "source": [
        "#### Training, Validation and Testing functions"
      ]
    },
    {
      "cell_type": "code",
      "execution_count": null,
      "metadata": {
        "id": "kybNxwJ3pmPD"
      },
      "outputs": [],
      "source": [
        "class lstm(nn.Module):\n",
        "  def __init__(self, input_size, hidden_size, num_layers,\n",
        "               classes):\n",
        "    super(lstm, self).__init__()\n",
        "    self.hidden_size = hidden_size\n",
        "    self.num_layers = num_layers\n",
        "\n",
        "    self.lstm = nn.LSTM(input_size,\n",
        "                        hidden_size,\n",
        "                        num_layers,\n",
        "                        batch_first = True,\n",
        "                        bidirectional = True)\n",
        "    \n",
        "    self.fc = nn.Linear(hidden_size *2, classes)\n",
        "\n",
        "  def forward(self, x):\n",
        "    h0 = torch.zeros(self.num_layers*2,x.size(0), self.hidden_size).to(device)\n",
        "    c0 = torch.zeros(self.num_layers*2, x.size(0), self.hidden_size).to(device)\n",
        "\n",
        "    output, _ = self.lstm(x, (h0, c0))\n",
        "    output = self.fc(output[:, 1, :])\n",
        "\n",
        "    return output\n",
        "\n"
      ]
    },
    {
      "cell_type": "code",
      "execution_count": null,
      "metadata": {
        "id": "WT-PAoQH0al1"
      },
      "outputs": [],
      "source": [
        "def validate(dataloader):\n",
        "    preds = []\n",
        "    target = []\n",
        "\n",
        "    loop = tqdm(dataloader,leave = True)\n",
        "    accuracy = 0\n",
        "    len_labels = 0\n",
        "    for batch in loop:\n",
        "        embeddings = batch[0].to(device)\n",
        "        labels = batch[1]\n",
        "\n",
        "        scores = model(embeddings)\n",
        "\n",
        "        predictions= torch.argmax(scores.float(), dim=1).to('cpu').flatten()\n",
        "        labels = labels.flatten()\n",
        "        preds.extend(predictions)\n",
        "        target.extend(labels)\n",
        "    \n",
        "\n",
        "    f1 = f1_score(target, preds, average='macro')\n",
        "    acc = accuracy_score(target, preds)\n",
        "    recall = recall_score(target, preds)\n",
        "    precision = precision_score(target, preds)\n",
        "\n",
        "    results = {\n",
        "        'f1': f1,\n",
        "        'accuracy': acc,\n",
        "        'recall': recall,\n",
        "        'precision': precision,\n",
        "    }\n",
        "\n",
        "    return results"
      ]
    },
    {
      "cell_type": "code",
      "execution_count": null,
      "metadata": {
        "id": "eKDo_X4R1F5C"
      },
      "outputs": [],
      "source": [
        "def train(train_dataloader,dev_dataloader, num_epochs, seed_val,\n",
        "          optimizer = optimizer, model = model, criterion = criterion):\n",
        "\n",
        "  seed_val = seed_val\n",
        "  \n",
        "  random.seed(seed_val)\n",
        "  seed = random.randint(1, seed_val)\n",
        "  torch.manual_seed(seed) \n",
        "  torch.cuda.manual_seed_all(seed)\n",
        "\n",
        "  validaition_results = []\n",
        "  best_f1 = 0\n",
        "\n",
        "  for epoch in range(num_epochs):\n",
        "      loop = tqdm(train_dataloader, leave = True)\n",
        "      for batch in loop:\n",
        "        optimizer.zero_grad()\n",
        "        embeddings = batch[0]\n",
        "        labels = batch[1]\n",
        "\n",
        "        scores = model(embeddings)\n",
        "        loss = criterion(scores, labels)\n",
        "\n",
        "        loss.backward()\n",
        "        optimizer.step()\n",
        "          \n",
        "\n",
        "\n",
        "        loop.set_description(f'Epoch {epoch}')\n",
        "        loop.set_postfix(loss = loss.item())\n",
        "\n",
        "      validation_scores = validate(dev_dataloader)\n",
        "      best_f1 = max(best_f1, validation_scores['f1'])\n",
        "      print('current f1 score for Epoch ' + str(epoch) + ' is: ' +  str(validation_scores['f1']))\n",
        "      print('Best f1 score: ', str(best_f1))\n",
        "      \n",
        "      \n",
        "  return validaition_results\n",
        "      \n"
      ]
    },
    {
      "cell_type": "markdown",
      "source": [
        "#### Classification"
      ],
      "metadata": {
        "id": "aNx7ZsRIUiI2"
      }
    },
    {
      "cell_type": "code",
      "source": [
        "iso_train_dataloader = create_dataloaders(iso_train_rep,\n",
        "                                          labels = labels_train, batch_size = 32)\n",
        "iso_dev_dataloader = create_dataloaders(input_ids = iso_dev_rep,\n",
        "                                        labels = labels_dev, batch_size = 32)"
      ],
      "metadata": {
        "id": "vYOWrtDHOeGa"
      },
      "execution_count": null,
      "outputs": []
    },
    {
      "cell_type": "code",
      "execution_count": null,
      "metadata": {
        "id": "7J5HzKAG5rtl"
      },
      "outputs": [],
      "source": [
        "model = lstm(input_size = 768,\n",
        "             hidden_size = train_max_len,\n",
        "             num_layers= 2,\n",
        "             classes =2)"
      ]
    },
    {
      "cell_type": "code",
      "execution_count": null,
      "metadata": {
        "id": "_SsMM8oq3lO9"
      },
      "outputs": [],
      "source": [
        "learning_rate = 3e-5\n",
        "num_epochs = 10\n",
        "criterion = nn.CrossEntropyLoss()\n",
        "optimizer = AdamW(model.parameters(), lr = learning_rate)"
      ]
    },
    {
      "cell_type": "code",
      "source": [
        "dev_results = train(iso_train_dataloader, iso_dev_dataloader)"
      ],
      "metadata": {
        "id": "12svX-s_T9b5"
      },
      "execution_count": null,
      "outputs": []
    }
  ],
  "metadata": {
    "colab": {
      "collapsed_sections": [],
      "name": "shared_task.ipynb",
      "provenance": []
    },
    "kernelspec": {
      "display_name": "Python 3",
      "name": "python3"
    },
    "language_info": {
      "name": "python"
    },
    "widgets": {
      "application/vnd.jupyter.widget-state+json": {
        "dbc7976ca15c4b2593c03f6080d64d0a": {
          "model_module": "@jupyter-widgets/controls",
          "model_name": "HBoxModel",
          "model_module_version": "1.5.0",
          "state": {
            "_dom_classes": [],
            "_model_module": "@jupyter-widgets/controls",
            "_model_module_version": "1.5.0",
            "_model_name": "HBoxModel",
            "_view_count": null,
            "_view_module": "@jupyter-widgets/controls",
            "_view_module_version": "1.5.0",
            "_view_name": "HBoxView",
            "box_style": "",
            "children": [
              "IPY_MODEL_f7cb956bd6ce404996792ac0241bab0e",
              "IPY_MODEL_dfad9e5a79e24771b06090e63ce25fb7",
              "IPY_MODEL_2611852be6e64e22a25b9ff84ae45a68"
            ],
            "layout": "IPY_MODEL_557955d060e24a5a8808b2cd7baf4b0c"
          }
        },
        "f7cb956bd6ce404996792ac0241bab0e": {
          "model_module": "@jupyter-widgets/controls",
          "model_name": "HTMLModel",
          "model_module_version": "1.5.0",
          "state": {
            "_dom_classes": [],
            "_model_module": "@jupyter-widgets/controls",
            "_model_module_version": "1.5.0",
            "_model_name": "HTMLModel",
            "_view_count": null,
            "_view_module": "@jupyter-widgets/controls",
            "_view_module_version": "1.5.0",
            "_view_name": "HTMLView",
            "description": "",
            "description_tooltip": null,
            "layout": "IPY_MODEL_72ceb1bfc0994a8baf2bd6f88220fb45",
            "placeholder": "​",
            "style": "IPY_MODEL_0ad3d9c39ac042fa9659f5c013311ec7",
            "value": "Downloading: 100%"
          }
        },
        "dfad9e5a79e24771b06090e63ce25fb7": {
          "model_module": "@jupyter-widgets/controls",
          "model_name": "FloatProgressModel",
          "model_module_version": "1.5.0",
          "state": {
            "_dom_classes": [],
            "_model_module": "@jupyter-widgets/controls",
            "_model_module_version": "1.5.0",
            "_model_name": "FloatProgressModel",
            "_view_count": null,
            "_view_module": "@jupyter-widgets/controls",
            "_view_module_version": "1.5.0",
            "_view_name": "ProgressView",
            "bar_style": "success",
            "description": "",
            "description_tooltip": null,
            "layout": "IPY_MODEL_4a3086143d2f4c1e850974b484f2231e",
            "max": 376,
            "min": 0,
            "orientation": "horizontal",
            "style": "IPY_MODEL_1e259adb450b4732bccd63da9fffa395",
            "value": 376
          }
        },
        "2611852be6e64e22a25b9ff84ae45a68": {
          "model_module": "@jupyter-widgets/controls",
          "model_name": "HTMLModel",
          "model_module_version": "1.5.0",
          "state": {
            "_dom_classes": [],
            "_model_module": "@jupyter-widgets/controls",
            "_model_module_version": "1.5.0",
            "_model_name": "HTMLModel",
            "_view_count": null,
            "_view_module": "@jupyter-widgets/controls",
            "_view_module_version": "1.5.0",
            "_view_name": "HTMLView",
            "description": "",
            "description_tooltip": null,
            "layout": "IPY_MODEL_98b427cc897d4a6a9eed32ce9998194b",
            "placeholder": "​",
            "style": "IPY_MODEL_d1fe610af6194281b0b4efdbfe33163e",
            "value": " 376/376 [00:00&lt;00:00, 5.47kB/s]"
          }
        },
        "557955d060e24a5a8808b2cd7baf4b0c": {
          "model_module": "@jupyter-widgets/base",
          "model_name": "LayoutModel",
          "model_module_version": "1.2.0",
          "state": {
            "_model_module": "@jupyter-widgets/base",
            "_model_module_version": "1.2.0",
            "_model_name": "LayoutModel",
            "_view_count": null,
            "_view_module": "@jupyter-widgets/base",
            "_view_module_version": "1.2.0",
            "_view_name": "LayoutView",
            "align_content": null,
            "align_items": null,
            "align_self": null,
            "border": null,
            "bottom": null,
            "display": null,
            "flex": null,
            "flex_flow": null,
            "grid_area": null,
            "grid_auto_columns": null,
            "grid_auto_flow": null,
            "grid_auto_rows": null,
            "grid_column": null,
            "grid_gap": null,
            "grid_row": null,
            "grid_template_areas": null,
            "grid_template_columns": null,
            "grid_template_rows": null,
            "height": null,
            "justify_content": null,
            "justify_items": null,
            "left": null,
            "margin": null,
            "max_height": null,
            "max_width": null,
            "min_height": null,
            "min_width": null,
            "object_fit": null,
            "object_position": null,
            "order": null,
            "overflow": null,
            "overflow_x": null,
            "overflow_y": null,
            "padding": null,
            "right": null,
            "top": null,
            "visibility": null,
            "width": null
          }
        },
        "72ceb1bfc0994a8baf2bd6f88220fb45": {
          "model_module": "@jupyter-widgets/base",
          "model_name": "LayoutModel",
          "model_module_version": "1.2.0",
          "state": {
            "_model_module": "@jupyter-widgets/base",
            "_model_module_version": "1.2.0",
            "_model_name": "LayoutModel",
            "_view_count": null,
            "_view_module": "@jupyter-widgets/base",
            "_view_module_version": "1.2.0",
            "_view_name": "LayoutView",
            "align_content": null,
            "align_items": null,
            "align_self": null,
            "border": null,
            "bottom": null,
            "display": null,
            "flex": null,
            "flex_flow": null,
            "grid_area": null,
            "grid_auto_columns": null,
            "grid_auto_flow": null,
            "grid_auto_rows": null,
            "grid_column": null,
            "grid_gap": null,
            "grid_row": null,
            "grid_template_areas": null,
            "grid_template_columns": null,
            "grid_template_rows": null,
            "height": null,
            "justify_content": null,
            "justify_items": null,
            "left": null,
            "margin": null,
            "max_height": null,
            "max_width": null,
            "min_height": null,
            "min_width": null,
            "object_fit": null,
            "object_position": null,
            "order": null,
            "overflow": null,
            "overflow_x": null,
            "overflow_y": null,
            "padding": null,
            "right": null,
            "top": null,
            "visibility": null,
            "width": null
          }
        },
        "0ad3d9c39ac042fa9659f5c013311ec7": {
          "model_module": "@jupyter-widgets/controls",
          "model_name": "DescriptionStyleModel",
          "model_module_version": "1.5.0",
          "state": {
            "_model_module": "@jupyter-widgets/controls",
            "_model_module_version": "1.5.0",
            "_model_name": "DescriptionStyleModel",
            "_view_count": null,
            "_view_module": "@jupyter-widgets/base",
            "_view_module_version": "1.2.0",
            "_view_name": "StyleView",
            "description_width": ""
          }
        },
        "4a3086143d2f4c1e850974b484f2231e": {
          "model_module": "@jupyter-widgets/base",
          "model_name": "LayoutModel",
          "model_module_version": "1.2.0",
          "state": {
            "_model_module": "@jupyter-widgets/base",
            "_model_module_version": "1.2.0",
            "_model_name": "LayoutModel",
            "_view_count": null,
            "_view_module": "@jupyter-widgets/base",
            "_view_module_version": "1.2.0",
            "_view_name": "LayoutView",
            "align_content": null,
            "align_items": null,
            "align_self": null,
            "border": null,
            "bottom": null,
            "display": null,
            "flex": null,
            "flex_flow": null,
            "grid_area": null,
            "grid_auto_columns": null,
            "grid_auto_flow": null,
            "grid_auto_rows": null,
            "grid_column": null,
            "grid_gap": null,
            "grid_row": null,
            "grid_template_areas": null,
            "grid_template_columns": null,
            "grid_template_rows": null,
            "height": null,
            "justify_content": null,
            "justify_items": null,
            "left": null,
            "margin": null,
            "max_height": null,
            "max_width": null,
            "min_height": null,
            "min_width": null,
            "object_fit": null,
            "object_position": null,
            "order": null,
            "overflow": null,
            "overflow_x": null,
            "overflow_y": null,
            "padding": null,
            "right": null,
            "top": null,
            "visibility": null,
            "width": null
          }
        },
        "1e259adb450b4732bccd63da9fffa395": {
          "model_module": "@jupyter-widgets/controls",
          "model_name": "ProgressStyleModel",
          "model_module_version": "1.5.0",
          "state": {
            "_model_module": "@jupyter-widgets/controls",
            "_model_module_version": "1.5.0",
            "_model_name": "ProgressStyleModel",
            "_view_count": null,
            "_view_module": "@jupyter-widgets/base",
            "_view_module_version": "1.2.0",
            "_view_name": "StyleView",
            "bar_color": null,
            "description_width": ""
          }
        },
        "98b427cc897d4a6a9eed32ce9998194b": {
          "model_module": "@jupyter-widgets/base",
          "model_name": "LayoutModel",
          "model_module_version": "1.2.0",
          "state": {
            "_model_module": "@jupyter-widgets/base",
            "_model_module_version": "1.2.0",
            "_model_name": "LayoutModel",
            "_view_count": null,
            "_view_module": "@jupyter-widgets/base",
            "_view_module_version": "1.2.0",
            "_view_name": "LayoutView",
            "align_content": null,
            "align_items": null,
            "align_self": null,
            "border": null,
            "bottom": null,
            "display": null,
            "flex": null,
            "flex_flow": null,
            "grid_area": null,
            "grid_auto_columns": null,
            "grid_auto_flow": null,
            "grid_auto_rows": null,
            "grid_column": null,
            "grid_gap": null,
            "grid_row": null,
            "grid_template_areas": null,
            "grid_template_columns": null,
            "grid_template_rows": null,
            "height": null,
            "justify_content": null,
            "justify_items": null,
            "left": null,
            "margin": null,
            "max_height": null,
            "max_width": null,
            "min_height": null,
            "min_width": null,
            "object_fit": null,
            "object_position": null,
            "order": null,
            "overflow": null,
            "overflow_x": null,
            "overflow_y": null,
            "padding": null,
            "right": null,
            "top": null,
            "visibility": null,
            "width": null
          }
        },
        "d1fe610af6194281b0b4efdbfe33163e": {
          "model_module": "@jupyter-widgets/controls",
          "model_name": "DescriptionStyleModel",
          "model_module_version": "1.5.0",
          "state": {
            "_model_module": "@jupyter-widgets/controls",
            "_model_module_version": "1.5.0",
            "_model_name": "DescriptionStyleModel",
            "_view_count": null,
            "_view_module": "@jupyter-widgets/base",
            "_view_module_version": "1.2.0",
            "_view_name": "StyleView",
            "description_width": ""
          }
        },
        "373e10b5aeb94b1f8bcf392094efbe34": {
          "model_module": "@jupyter-widgets/controls",
          "model_name": "HBoxModel",
          "model_module_version": "1.5.0",
          "state": {
            "_dom_classes": [],
            "_model_module": "@jupyter-widgets/controls",
            "_model_module_version": "1.5.0",
            "_model_name": "HBoxModel",
            "_view_count": null,
            "_view_module": "@jupyter-widgets/controls",
            "_view_module_version": "1.5.0",
            "_view_name": "HBoxView",
            "box_style": "",
            "children": [
              "IPY_MODEL_7265cc278cca49e2bf4a74cf3cd5d0c9",
              "IPY_MODEL_4f0430ac41a44eae9cb4c9914fd800c7",
              "IPY_MODEL_9f9bc26f32d744c4b7b310993e336188"
            ],
            "layout": "IPY_MODEL_8da24c8d015440feb932128ff314037e"
          }
        },
        "7265cc278cca49e2bf4a74cf3cd5d0c9": {
          "model_module": "@jupyter-widgets/controls",
          "model_name": "HTMLModel",
          "model_module_version": "1.5.0",
          "state": {
            "_dom_classes": [],
            "_model_module": "@jupyter-widgets/controls",
            "_model_module_version": "1.5.0",
            "_model_name": "HTMLModel",
            "_view_count": null,
            "_view_module": "@jupyter-widgets/controls",
            "_view_module_version": "1.5.0",
            "_view_name": "HTMLView",
            "description": "",
            "description_tooltip": null,
            "layout": "IPY_MODEL_59fe52c3a1d24a258cab536fd43b81af",
            "placeholder": "​",
            "style": "IPY_MODEL_1891cc6f735e462c9edc4b5e276b2b6c",
            "value": "Downloading: 100%"
          }
        },
        "4f0430ac41a44eae9cb4c9914fd800c7": {
          "model_module": "@jupyter-widgets/controls",
          "model_name": "FloatProgressModel",
          "model_module_version": "1.5.0",
          "state": {
            "_dom_classes": [],
            "_model_module": "@jupyter-widgets/controls",
            "_model_module_version": "1.5.0",
            "_model_name": "FloatProgressModel",
            "_view_count": null,
            "_view_module": "@jupyter-widgets/controls",
            "_view_module_version": "1.5.0",
            "_view_name": "ProgressView",
            "bar_style": "success",
            "description": "",
            "description_tooltip": null,
            "layout": "IPY_MODEL_32476acd5acd45d2a8fe8e1aa270f497",
            "max": 701,
            "min": 0,
            "orientation": "horizontal",
            "style": "IPY_MODEL_fcfa4a7f0a154165afdc6e18c1a269b3",
            "value": 701
          }
        },
        "9f9bc26f32d744c4b7b310993e336188": {
          "model_module": "@jupyter-widgets/controls",
          "model_name": "HTMLModel",
          "model_module_version": "1.5.0",
          "state": {
            "_dom_classes": [],
            "_model_module": "@jupyter-widgets/controls",
            "_model_module_version": "1.5.0",
            "_model_name": "HTMLModel",
            "_view_count": null,
            "_view_module": "@jupyter-widgets/controls",
            "_view_module_version": "1.5.0",
            "_view_name": "HTMLView",
            "description": "",
            "description_tooltip": null,
            "layout": "IPY_MODEL_f5bec8d70a3245919ceb12e36098d162",
            "placeholder": "​",
            "style": "IPY_MODEL_52ec0b3d238d4a0d92b4c362802c80b5",
            "value": " 701/701 [00:00&lt;00:00, 7.77kB/s]"
          }
        },
        "8da24c8d015440feb932128ff314037e": {
          "model_module": "@jupyter-widgets/base",
          "model_name": "LayoutModel",
          "model_module_version": "1.2.0",
          "state": {
            "_model_module": "@jupyter-widgets/base",
            "_model_module_version": "1.2.0",
            "_model_name": "LayoutModel",
            "_view_count": null,
            "_view_module": "@jupyter-widgets/base",
            "_view_module_version": "1.2.0",
            "_view_name": "LayoutView",
            "align_content": null,
            "align_items": null,
            "align_self": null,
            "border": null,
            "bottom": null,
            "display": null,
            "flex": null,
            "flex_flow": null,
            "grid_area": null,
            "grid_auto_columns": null,
            "grid_auto_flow": null,
            "grid_auto_rows": null,
            "grid_column": null,
            "grid_gap": null,
            "grid_row": null,
            "grid_template_areas": null,
            "grid_template_columns": null,
            "grid_template_rows": null,
            "height": null,
            "justify_content": null,
            "justify_items": null,
            "left": null,
            "margin": null,
            "max_height": null,
            "max_width": null,
            "min_height": null,
            "min_width": null,
            "object_fit": null,
            "object_position": null,
            "order": null,
            "overflow": null,
            "overflow_x": null,
            "overflow_y": null,
            "padding": null,
            "right": null,
            "top": null,
            "visibility": null,
            "width": null
          }
        },
        "59fe52c3a1d24a258cab536fd43b81af": {
          "model_module": "@jupyter-widgets/base",
          "model_name": "LayoutModel",
          "model_module_version": "1.2.0",
          "state": {
            "_model_module": "@jupyter-widgets/base",
            "_model_module_version": "1.2.0",
            "_model_name": "LayoutModel",
            "_view_count": null,
            "_view_module": "@jupyter-widgets/base",
            "_view_module_version": "1.2.0",
            "_view_name": "LayoutView",
            "align_content": null,
            "align_items": null,
            "align_self": null,
            "border": null,
            "bottom": null,
            "display": null,
            "flex": null,
            "flex_flow": null,
            "grid_area": null,
            "grid_auto_columns": null,
            "grid_auto_flow": null,
            "grid_auto_rows": null,
            "grid_column": null,
            "grid_gap": null,
            "grid_row": null,
            "grid_template_areas": null,
            "grid_template_columns": null,
            "grid_template_rows": null,
            "height": null,
            "justify_content": null,
            "justify_items": null,
            "left": null,
            "margin": null,
            "max_height": null,
            "max_width": null,
            "min_height": null,
            "min_width": null,
            "object_fit": null,
            "object_position": null,
            "order": null,
            "overflow": null,
            "overflow_x": null,
            "overflow_y": null,
            "padding": null,
            "right": null,
            "top": null,
            "visibility": null,
            "width": null
          }
        },
        "1891cc6f735e462c9edc4b5e276b2b6c": {
          "model_module": "@jupyter-widgets/controls",
          "model_name": "DescriptionStyleModel",
          "model_module_version": "1.5.0",
          "state": {
            "_model_module": "@jupyter-widgets/controls",
            "_model_module_version": "1.5.0",
            "_model_name": "DescriptionStyleModel",
            "_view_count": null,
            "_view_module": "@jupyter-widgets/base",
            "_view_module_version": "1.2.0",
            "_view_name": "StyleView",
            "description_width": ""
          }
        },
        "32476acd5acd45d2a8fe8e1aa270f497": {
          "model_module": "@jupyter-widgets/base",
          "model_name": "LayoutModel",
          "model_module_version": "1.2.0",
          "state": {
            "_model_module": "@jupyter-widgets/base",
            "_model_module_version": "1.2.0",
            "_model_name": "LayoutModel",
            "_view_count": null,
            "_view_module": "@jupyter-widgets/base",
            "_view_module_version": "1.2.0",
            "_view_name": "LayoutView",
            "align_content": null,
            "align_items": null,
            "align_self": null,
            "border": null,
            "bottom": null,
            "display": null,
            "flex": null,
            "flex_flow": null,
            "grid_area": null,
            "grid_auto_columns": null,
            "grid_auto_flow": null,
            "grid_auto_rows": null,
            "grid_column": null,
            "grid_gap": null,
            "grid_row": null,
            "grid_template_areas": null,
            "grid_template_columns": null,
            "grid_template_rows": null,
            "height": null,
            "justify_content": null,
            "justify_items": null,
            "left": null,
            "margin": null,
            "max_height": null,
            "max_width": null,
            "min_height": null,
            "min_width": null,
            "object_fit": null,
            "object_position": null,
            "order": null,
            "overflow": null,
            "overflow_x": null,
            "overflow_y": null,
            "padding": null,
            "right": null,
            "top": null,
            "visibility": null,
            "width": null
          }
        },
        "fcfa4a7f0a154165afdc6e18c1a269b3": {
          "model_module": "@jupyter-widgets/controls",
          "model_name": "ProgressStyleModel",
          "model_module_version": "1.5.0",
          "state": {
            "_model_module": "@jupyter-widgets/controls",
            "_model_module_version": "1.5.0",
            "_model_name": "ProgressStyleModel",
            "_view_count": null,
            "_view_module": "@jupyter-widgets/base",
            "_view_module_version": "1.2.0",
            "_view_name": "StyleView",
            "bar_color": null,
            "description_width": ""
          }
        },
        "f5bec8d70a3245919ceb12e36098d162": {
          "model_module": "@jupyter-widgets/base",
          "model_name": "LayoutModel",
          "model_module_version": "1.2.0",
          "state": {
            "_model_module": "@jupyter-widgets/base",
            "_model_module_version": "1.2.0",
            "_model_name": "LayoutModel",
            "_view_count": null,
            "_view_module": "@jupyter-widgets/base",
            "_view_module_version": "1.2.0",
            "_view_name": "LayoutView",
            "align_content": null,
            "align_items": null,
            "align_self": null,
            "border": null,
            "bottom": null,
            "display": null,
            "flex": null,
            "flex_flow": null,
            "grid_area": null,
            "grid_auto_columns": null,
            "grid_auto_flow": null,
            "grid_auto_rows": null,
            "grid_column": null,
            "grid_gap": null,
            "grid_row": null,
            "grid_template_areas": null,
            "grid_template_columns": null,
            "grid_template_rows": null,
            "height": null,
            "justify_content": null,
            "justify_items": null,
            "left": null,
            "margin": null,
            "max_height": null,
            "max_width": null,
            "min_height": null,
            "min_width": null,
            "object_fit": null,
            "object_position": null,
            "order": null,
            "overflow": null,
            "overflow_x": null,
            "overflow_y": null,
            "padding": null,
            "right": null,
            "top": null,
            "visibility": null,
            "width": null
          }
        },
        "52ec0b3d238d4a0d92b4c362802c80b5": {
          "model_module": "@jupyter-widgets/controls",
          "model_name": "DescriptionStyleModel",
          "model_module_version": "1.5.0",
          "state": {
            "_model_module": "@jupyter-widgets/controls",
            "_model_module_version": "1.5.0",
            "_model_name": "DescriptionStyleModel",
            "_view_count": null,
            "_view_module": "@jupyter-widgets/base",
            "_view_module_version": "1.2.0",
            "_view_name": "StyleView",
            "description_width": ""
          }
        },
        "023d466ad9c6452e8c9193353d9abe3f": {
          "model_module": "@jupyter-widgets/controls",
          "model_name": "HBoxModel",
          "model_module_version": "1.5.0",
          "state": {
            "_dom_classes": [],
            "_model_module": "@jupyter-widgets/controls",
            "_model_module_version": "1.5.0",
            "_model_name": "HBoxModel",
            "_view_count": null,
            "_view_module": "@jupyter-widgets/controls",
            "_view_module_version": "1.5.0",
            "_view_name": "HBoxView",
            "box_style": "",
            "children": [
              "IPY_MODEL_06fa3e733cbd49f98ffc6a37c3d1751d",
              "IPY_MODEL_3bf2d2df6e984148acbf59e0a44877c7",
              "IPY_MODEL_9632ef5dd6614f08b042d54353845bd1"
            ],
            "layout": "IPY_MODEL_ecf71a97dfbe46dc89d16d93817b8558"
          }
        },
        "06fa3e733cbd49f98ffc6a37c3d1751d": {
          "model_module": "@jupyter-widgets/controls",
          "model_name": "HTMLModel",
          "model_module_version": "1.5.0",
          "state": {
            "_dom_classes": [],
            "_model_module": "@jupyter-widgets/controls",
            "_model_module_version": "1.5.0",
            "_model_name": "HTMLModel",
            "_view_count": null,
            "_view_module": "@jupyter-widgets/controls",
            "_view_module_version": "1.5.0",
            "_view_name": "HTMLView",
            "description": "",
            "description_tooltip": null,
            "layout": "IPY_MODEL_1a836fbbd1be4995a0d3b91071403eae",
            "placeholder": "​",
            "style": "IPY_MODEL_b68a07a816344713bb8739bcb34a44a4",
            "value": "Downloading: 100%"
          }
        },
        "3bf2d2df6e984148acbf59e0a44877c7": {
          "model_module": "@jupyter-widgets/controls",
          "model_name": "FloatProgressModel",
          "model_module_version": "1.5.0",
          "state": {
            "_dom_classes": [],
            "_model_module": "@jupyter-widgets/controls",
            "_model_module_version": "1.5.0",
            "_model_name": "FloatProgressModel",
            "_view_count": null,
            "_view_module": "@jupyter-widgets/controls",
            "_view_module_version": "1.5.0",
            "_view_name": "ProgressView",
            "bar_style": "success",
            "description": "",
            "description_tooltip": null,
            "layout": "IPY_MODEL_e8fc5c3de26d4c87a51e0fddbaa505f0",
            "max": 1099714,
            "min": 0,
            "orientation": "horizontal",
            "style": "IPY_MODEL_713d921c57554b219672d08ee6c3886c",
            "value": 1099714
          }
        },
        "9632ef5dd6614f08b042d54353845bd1": {
          "model_module": "@jupyter-widgets/controls",
          "model_name": "HTMLModel",
          "model_module_version": "1.5.0",
          "state": {
            "_dom_classes": [],
            "_model_module": "@jupyter-widgets/controls",
            "_model_module_version": "1.5.0",
            "_model_name": "HTMLModel",
            "_view_count": null,
            "_view_module": "@jupyter-widgets/controls",
            "_view_module_version": "1.5.0",
            "_view_name": "HTMLView",
            "description": "",
            "description_tooltip": null,
            "layout": "IPY_MODEL_231faf85ebd947948885320b17821420",
            "placeholder": "​",
            "style": "IPY_MODEL_64868d026d1342fbb7bf0909452fb490",
            "value": " 1.05M/1.05M [00:00&lt;00:00, 2.18MB/s]"
          }
        },
        "ecf71a97dfbe46dc89d16d93817b8558": {
          "model_module": "@jupyter-widgets/base",
          "model_name": "LayoutModel",
          "model_module_version": "1.2.0",
          "state": {
            "_model_module": "@jupyter-widgets/base",
            "_model_module_version": "1.2.0",
            "_model_name": "LayoutModel",
            "_view_count": null,
            "_view_module": "@jupyter-widgets/base",
            "_view_module_version": "1.2.0",
            "_view_name": "LayoutView",
            "align_content": null,
            "align_items": null,
            "align_self": null,
            "border": null,
            "bottom": null,
            "display": null,
            "flex": null,
            "flex_flow": null,
            "grid_area": null,
            "grid_auto_columns": null,
            "grid_auto_flow": null,
            "grid_auto_rows": null,
            "grid_column": null,
            "grid_gap": null,
            "grid_row": null,
            "grid_template_areas": null,
            "grid_template_columns": null,
            "grid_template_rows": null,
            "height": null,
            "justify_content": null,
            "justify_items": null,
            "left": null,
            "margin": null,
            "max_height": null,
            "max_width": null,
            "min_height": null,
            "min_width": null,
            "object_fit": null,
            "object_position": null,
            "order": null,
            "overflow": null,
            "overflow_x": null,
            "overflow_y": null,
            "padding": null,
            "right": null,
            "top": null,
            "visibility": null,
            "width": null
          }
        },
        "1a836fbbd1be4995a0d3b91071403eae": {
          "model_module": "@jupyter-widgets/base",
          "model_name": "LayoutModel",
          "model_module_version": "1.2.0",
          "state": {
            "_model_module": "@jupyter-widgets/base",
            "_model_module_version": "1.2.0",
            "_model_name": "LayoutModel",
            "_view_count": null,
            "_view_module": "@jupyter-widgets/base",
            "_view_module_version": "1.2.0",
            "_view_name": "LayoutView",
            "align_content": null,
            "align_items": null,
            "align_self": null,
            "border": null,
            "bottom": null,
            "display": null,
            "flex": null,
            "flex_flow": null,
            "grid_area": null,
            "grid_auto_columns": null,
            "grid_auto_flow": null,
            "grid_auto_rows": null,
            "grid_column": null,
            "grid_gap": null,
            "grid_row": null,
            "grid_template_areas": null,
            "grid_template_columns": null,
            "grid_template_rows": null,
            "height": null,
            "justify_content": null,
            "justify_items": null,
            "left": null,
            "margin": null,
            "max_height": null,
            "max_width": null,
            "min_height": null,
            "min_width": null,
            "object_fit": null,
            "object_position": null,
            "order": null,
            "overflow": null,
            "overflow_x": null,
            "overflow_y": null,
            "padding": null,
            "right": null,
            "top": null,
            "visibility": null,
            "width": null
          }
        },
        "b68a07a816344713bb8739bcb34a44a4": {
          "model_module": "@jupyter-widgets/controls",
          "model_name": "DescriptionStyleModel",
          "model_module_version": "1.5.0",
          "state": {
            "_model_module": "@jupyter-widgets/controls",
            "_model_module_version": "1.5.0",
            "_model_name": "DescriptionStyleModel",
            "_view_count": null,
            "_view_module": "@jupyter-widgets/base",
            "_view_module_version": "1.2.0",
            "_view_name": "StyleView",
            "description_width": ""
          }
        },
        "e8fc5c3de26d4c87a51e0fddbaa505f0": {
          "model_module": "@jupyter-widgets/base",
          "model_name": "LayoutModel",
          "model_module_version": "1.2.0",
          "state": {
            "_model_module": "@jupyter-widgets/base",
            "_model_module_version": "1.2.0",
            "_model_name": "LayoutModel",
            "_view_count": null,
            "_view_module": "@jupyter-widgets/base",
            "_view_module_version": "1.2.0",
            "_view_name": "LayoutView",
            "align_content": null,
            "align_items": null,
            "align_self": null,
            "border": null,
            "bottom": null,
            "display": null,
            "flex": null,
            "flex_flow": null,
            "grid_area": null,
            "grid_auto_columns": null,
            "grid_auto_flow": null,
            "grid_auto_rows": null,
            "grid_column": null,
            "grid_gap": null,
            "grid_row": null,
            "grid_template_areas": null,
            "grid_template_columns": null,
            "grid_template_rows": null,
            "height": null,
            "justify_content": null,
            "justify_items": null,
            "left": null,
            "margin": null,
            "max_height": null,
            "max_width": null,
            "min_height": null,
            "min_width": null,
            "object_fit": null,
            "object_position": null,
            "order": null,
            "overflow": null,
            "overflow_x": null,
            "overflow_y": null,
            "padding": null,
            "right": null,
            "top": null,
            "visibility": null,
            "width": null
          }
        },
        "713d921c57554b219672d08ee6c3886c": {
          "model_module": "@jupyter-widgets/controls",
          "model_name": "ProgressStyleModel",
          "model_module_version": "1.5.0",
          "state": {
            "_model_module": "@jupyter-widgets/controls",
            "_model_module_version": "1.5.0",
            "_model_name": "ProgressStyleModel",
            "_view_count": null,
            "_view_module": "@jupyter-widgets/base",
            "_view_module_version": "1.2.0",
            "_view_name": "StyleView",
            "bar_color": null,
            "description_width": ""
          }
        },
        "231faf85ebd947948885320b17821420": {
          "model_module": "@jupyter-widgets/base",
          "model_name": "LayoutModel",
          "model_module_version": "1.2.0",
          "state": {
            "_model_module": "@jupyter-widgets/base",
            "_model_module_version": "1.2.0",
            "_model_name": "LayoutModel",
            "_view_count": null,
            "_view_module": "@jupyter-widgets/base",
            "_view_module_version": "1.2.0",
            "_view_name": "LayoutView",
            "align_content": null,
            "align_items": null,
            "align_self": null,
            "border": null,
            "bottom": null,
            "display": null,
            "flex": null,
            "flex_flow": null,
            "grid_area": null,
            "grid_auto_columns": null,
            "grid_auto_flow": null,
            "grid_auto_rows": null,
            "grid_column": null,
            "grid_gap": null,
            "grid_row": null,
            "grid_template_areas": null,
            "grid_template_columns": null,
            "grid_template_rows": null,
            "height": null,
            "justify_content": null,
            "justify_items": null,
            "left": null,
            "margin": null,
            "max_height": null,
            "max_width": null,
            "min_height": null,
            "min_width": null,
            "object_fit": null,
            "object_position": null,
            "order": null,
            "overflow": null,
            "overflow_x": null,
            "overflow_y": null,
            "padding": null,
            "right": null,
            "top": null,
            "visibility": null,
            "width": null
          }
        },
        "64868d026d1342fbb7bf0909452fb490": {
          "model_module": "@jupyter-widgets/controls",
          "model_name": "DescriptionStyleModel",
          "model_module_version": "1.5.0",
          "state": {
            "_model_module": "@jupyter-widgets/controls",
            "_model_module_version": "1.5.0",
            "_model_name": "DescriptionStyleModel",
            "_view_count": null,
            "_view_module": "@jupyter-widgets/base",
            "_view_module_version": "1.2.0",
            "_view_name": "StyleView",
            "description_width": ""
          }
        },
        "a6d627e8d8b742d08c291339f3b3850e": {
          "model_module": "@jupyter-widgets/controls",
          "model_name": "HBoxModel",
          "model_module_version": "1.5.0",
          "state": {
            "_dom_classes": [],
            "_model_module": "@jupyter-widgets/controls",
            "_model_module_version": "1.5.0",
            "_model_name": "HBoxModel",
            "_view_count": null,
            "_view_module": "@jupyter-widgets/controls",
            "_view_module_version": "1.5.0",
            "_view_name": "HBoxView",
            "box_style": "",
            "children": [
              "IPY_MODEL_e61899b3c98b4a00be5fa4c365457c14",
              "IPY_MODEL_20746f79eec44a9a977bd89a8ca3e83e",
              "IPY_MODEL_a51336aa754a4efab43ea03ec2f5ce05"
            ],
            "layout": "IPY_MODEL_258a1a2df3b34ed4ade4d4b153d9f080"
          }
        },
        "e61899b3c98b4a00be5fa4c365457c14": {
          "model_module": "@jupyter-widgets/controls",
          "model_name": "HTMLModel",
          "model_module_version": "1.5.0",
          "state": {
            "_dom_classes": [],
            "_model_module": "@jupyter-widgets/controls",
            "_model_module_version": "1.5.0",
            "_model_name": "HTMLModel",
            "_view_count": null,
            "_view_module": "@jupyter-widgets/controls",
            "_view_module_version": "1.5.0",
            "_view_name": "HTMLView",
            "description": "",
            "description_tooltip": null,
            "layout": "IPY_MODEL_eb8bcef426b04965bca4d8f379a7b1e3",
            "placeholder": "​",
            "style": "IPY_MODEL_f1c89302d50b46aba25633f45e45eaed",
            "value": "Downloading: 100%"
          }
        },
        "20746f79eec44a9a977bd89a8ca3e83e": {
          "model_module": "@jupyter-widgets/controls",
          "model_name": "FloatProgressModel",
          "model_module_version": "1.5.0",
          "state": {
            "_dom_classes": [],
            "_model_module": "@jupyter-widgets/controls",
            "_model_module_version": "1.5.0",
            "_model_name": "FloatProgressModel",
            "_view_count": null,
            "_view_module": "@jupyter-widgets/controls",
            "_view_module_version": "1.5.0",
            "_view_name": "ProgressView",
            "bar_style": "success",
            "description": "",
            "description_tooltip": null,
            "layout": "IPY_MODEL_83a9c610641d4e8b8ced3ba3f6f254eb",
            "max": 112,
            "min": 0,
            "orientation": "horizontal",
            "style": "IPY_MODEL_8563f6d292114e389e617ab2ebb2a31c",
            "value": 112
          }
        },
        "a51336aa754a4efab43ea03ec2f5ce05": {
          "model_module": "@jupyter-widgets/controls",
          "model_name": "HTMLModel",
          "model_module_version": "1.5.0",
          "state": {
            "_dom_classes": [],
            "_model_module": "@jupyter-widgets/controls",
            "_model_module_version": "1.5.0",
            "_model_name": "HTMLModel",
            "_view_count": null,
            "_view_module": "@jupyter-widgets/controls",
            "_view_module_version": "1.5.0",
            "_view_name": "HTMLView",
            "description": "",
            "description_tooltip": null,
            "layout": "IPY_MODEL_ba7ea0e61c6d44bbaa26c7b144c0d9d1",
            "placeholder": "​",
            "style": "IPY_MODEL_e408b15598514f8f9947e9260a56f331",
            "value": " 112/112 [00:00&lt;00:00, 743B/s]"
          }
        },
        "258a1a2df3b34ed4ade4d4b153d9f080": {
          "model_module": "@jupyter-widgets/base",
          "model_name": "LayoutModel",
          "model_module_version": "1.2.0",
          "state": {
            "_model_module": "@jupyter-widgets/base",
            "_model_module_version": "1.2.0",
            "_model_name": "LayoutModel",
            "_view_count": null,
            "_view_module": "@jupyter-widgets/base",
            "_view_module_version": "1.2.0",
            "_view_name": "LayoutView",
            "align_content": null,
            "align_items": null,
            "align_self": null,
            "border": null,
            "bottom": null,
            "display": null,
            "flex": null,
            "flex_flow": null,
            "grid_area": null,
            "grid_auto_columns": null,
            "grid_auto_flow": null,
            "grid_auto_rows": null,
            "grid_column": null,
            "grid_gap": null,
            "grid_row": null,
            "grid_template_areas": null,
            "grid_template_columns": null,
            "grid_template_rows": null,
            "height": null,
            "justify_content": null,
            "justify_items": null,
            "left": null,
            "margin": null,
            "max_height": null,
            "max_width": null,
            "min_height": null,
            "min_width": null,
            "object_fit": null,
            "object_position": null,
            "order": null,
            "overflow": null,
            "overflow_x": null,
            "overflow_y": null,
            "padding": null,
            "right": null,
            "top": null,
            "visibility": null,
            "width": null
          }
        },
        "eb8bcef426b04965bca4d8f379a7b1e3": {
          "model_module": "@jupyter-widgets/base",
          "model_name": "LayoutModel",
          "model_module_version": "1.2.0",
          "state": {
            "_model_module": "@jupyter-widgets/base",
            "_model_module_version": "1.2.0",
            "_model_name": "LayoutModel",
            "_view_count": null,
            "_view_module": "@jupyter-widgets/base",
            "_view_module_version": "1.2.0",
            "_view_name": "LayoutView",
            "align_content": null,
            "align_items": null,
            "align_self": null,
            "border": null,
            "bottom": null,
            "display": null,
            "flex": null,
            "flex_flow": null,
            "grid_area": null,
            "grid_auto_columns": null,
            "grid_auto_flow": null,
            "grid_auto_rows": null,
            "grid_column": null,
            "grid_gap": null,
            "grid_row": null,
            "grid_template_areas": null,
            "grid_template_columns": null,
            "grid_template_rows": null,
            "height": null,
            "justify_content": null,
            "justify_items": null,
            "left": null,
            "margin": null,
            "max_height": null,
            "max_width": null,
            "min_height": null,
            "min_width": null,
            "object_fit": null,
            "object_position": null,
            "order": null,
            "overflow": null,
            "overflow_x": null,
            "overflow_y": null,
            "padding": null,
            "right": null,
            "top": null,
            "visibility": null,
            "width": null
          }
        },
        "f1c89302d50b46aba25633f45e45eaed": {
          "model_module": "@jupyter-widgets/controls",
          "model_name": "DescriptionStyleModel",
          "model_module_version": "1.5.0",
          "state": {
            "_model_module": "@jupyter-widgets/controls",
            "_model_module_version": "1.5.0",
            "_model_name": "DescriptionStyleModel",
            "_view_count": null,
            "_view_module": "@jupyter-widgets/base",
            "_view_module_version": "1.2.0",
            "_view_name": "StyleView",
            "description_width": ""
          }
        },
        "83a9c610641d4e8b8ced3ba3f6f254eb": {
          "model_module": "@jupyter-widgets/base",
          "model_name": "LayoutModel",
          "model_module_version": "1.2.0",
          "state": {
            "_model_module": "@jupyter-widgets/base",
            "_model_module_version": "1.2.0",
            "_model_name": "LayoutModel",
            "_view_count": null,
            "_view_module": "@jupyter-widgets/base",
            "_view_module_version": "1.2.0",
            "_view_name": "LayoutView",
            "align_content": null,
            "align_items": null,
            "align_self": null,
            "border": null,
            "bottom": null,
            "display": null,
            "flex": null,
            "flex_flow": null,
            "grid_area": null,
            "grid_auto_columns": null,
            "grid_auto_flow": null,
            "grid_auto_rows": null,
            "grid_column": null,
            "grid_gap": null,
            "grid_row": null,
            "grid_template_areas": null,
            "grid_template_columns": null,
            "grid_template_rows": null,
            "height": null,
            "justify_content": null,
            "justify_items": null,
            "left": null,
            "margin": null,
            "max_height": null,
            "max_width": null,
            "min_height": null,
            "min_width": null,
            "object_fit": null,
            "object_position": null,
            "order": null,
            "overflow": null,
            "overflow_x": null,
            "overflow_y": null,
            "padding": null,
            "right": null,
            "top": null,
            "visibility": null,
            "width": null
          }
        },
        "8563f6d292114e389e617ab2ebb2a31c": {
          "model_module": "@jupyter-widgets/controls",
          "model_name": "ProgressStyleModel",
          "model_module_version": "1.5.0",
          "state": {
            "_model_module": "@jupyter-widgets/controls",
            "_model_module_version": "1.5.0",
            "_model_name": "ProgressStyleModel",
            "_view_count": null,
            "_view_module": "@jupyter-widgets/base",
            "_view_module_version": "1.2.0",
            "_view_name": "StyleView",
            "bar_color": null,
            "description_width": ""
          }
        },
        "ba7ea0e61c6d44bbaa26c7b144c0d9d1": {
          "model_module": "@jupyter-widgets/base",
          "model_name": "LayoutModel",
          "model_module_version": "1.2.0",
          "state": {
            "_model_module": "@jupyter-widgets/base",
            "_model_module_version": "1.2.0",
            "_model_name": "LayoutModel",
            "_view_count": null,
            "_view_module": "@jupyter-widgets/base",
            "_view_module_version": "1.2.0",
            "_view_name": "LayoutView",
            "align_content": null,
            "align_items": null,
            "align_self": null,
            "border": null,
            "bottom": null,
            "display": null,
            "flex": null,
            "flex_flow": null,
            "grid_area": null,
            "grid_auto_columns": null,
            "grid_auto_flow": null,
            "grid_auto_rows": null,
            "grid_column": null,
            "grid_gap": null,
            "grid_row": null,
            "grid_template_areas": null,
            "grid_template_columns": null,
            "grid_template_rows": null,
            "height": null,
            "justify_content": null,
            "justify_items": null,
            "left": null,
            "margin": null,
            "max_height": null,
            "max_width": null,
            "min_height": null,
            "min_width": null,
            "object_fit": null,
            "object_position": null,
            "order": null,
            "overflow": null,
            "overflow_x": null,
            "overflow_y": null,
            "padding": null,
            "right": null,
            "top": null,
            "visibility": null,
            "width": null
          }
        },
        "e408b15598514f8f9947e9260a56f331": {
          "model_module": "@jupyter-widgets/controls",
          "model_name": "DescriptionStyleModel",
          "model_module_version": "1.5.0",
          "state": {
            "_model_module": "@jupyter-widgets/controls",
            "_model_module_version": "1.5.0",
            "_model_name": "DescriptionStyleModel",
            "_view_count": null,
            "_view_module": "@jupyter-widgets/base",
            "_view_module_version": "1.2.0",
            "_view_name": "StyleView",
            "description_width": ""
          }
        },
        "64028cbcbd76439aa800e096ffb02652": {
          "model_module": "@jupyter-widgets/controls",
          "model_name": "HBoxModel",
          "model_module_version": "1.5.0",
          "state": {
            "_dom_classes": [],
            "_model_module": "@jupyter-widgets/controls",
            "_model_module_version": "1.5.0",
            "_model_name": "HBoxModel",
            "_view_count": null,
            "_view_module": "@jupyter-widgets/controls",
            "_view_module_version": "1.5.0",
            "_view_name": "HBoxView",
            "box_style": "",
            "children": [
              "IPY_MODEL_a281e8b3dd7c48ad9407e6647be5f52b",
              "IPY_MODEL_75d419d06c444b089682429259eadd4d",
              "IPY_MODEL_6e41ebf2a84e4349acecea9d99040874"
            ],
            "layout": "IPY_MODEL_66f7efed771d4a54b2dfd84c0efdc685"
          }
        },
        "a281e8b3dd7c48ad9407e6647be5f52b": {
          "model_module": "@jupyter-widgets/controls",
          "model_name": "HTMLModel",
          "model_module_version": "1.5.0",
          "state": {
            "_dom_classes": [],
            "_model_module": "@jupyter-widgets/controls",
            "_model_module_version": "1.5.0",
            "_model_name": "HTMLModel",
            "_view_count": null,
            "_view_module": "@jupyter-widgets/controls",
            "_view_module_version": "1.5.0",
            "_view_name": "HTMLView",
            "description": "",
            "description_tooltip": null,
            "layout": "IPY_MODEL_b5aafcf878c5421e88f1f67135f8274f",
            "placeholder": "​",
            "style": "IPY_MODEL_f275a1e194614dd694ea8599d7e88503",
            "value": "Downloading: 100%"
          }
        },
        "75d419d06c444b089682429259eadd4d": {
          "model_module": "@jupyter-widgets/controls",
          "model_name": "FloatProgressModel",
          "model_module_version": "1.5.0",
          "state": {
            "_dom_classes": [],
            "_model_module": "@jupyter-widgets/controls",
            "_model_module_version": "1.5.0",
            "_model_name": "FloatProgressModel",
            "_view_count": null,
            "_view_module": "@jupyter-widgets/controls",
            "_view_module_version": "1.5.0",
            "_view_name": "ProgressView",
            "bar_style": "success",
            "description": "",
            "description_tooltip": null,
            "layout": "IPY_MODEL_e27a3ecfe0e8446e98009dd8393c39ca",
            "max": 654186400,
            "min": 0,
            "orientation": "horizontal",
            "style": "IPY_MODEL_5791b9cb1b5b4305beaeef5d0ddf64ec",
            "value": 654186400
          }
        },
        "6e41ebf2a84e4349acecea9d99040874": {
          "model_module": "@jupyter-widgets/controls",
          "model_name": "HTMLModel",
          "model_module_version": "1.5.0",
          "state": {
            "_dom_classes": [],
            "_model_module": "@jupyter-widgets/controls",
            "_model_module_version": "1.5.0",
            "_model_name": "HTMLModel",
            "_view_count": null,
            "_view_module": "@jupyter-widgets/controls",
            "_view_module_version": "1.5.0",
            "_view_name": "HTMLView",
            "description": "",
            "description_tooltip": null,
            "layout": "IPY_MODEL_20ccbd2c19694387a46909557a688567",
            "placeholder": "​",
            "style": "IPY_MODEL_2ec48f01af7342aca5233645f90e8657",
            "value": " 624M/624M [00:42&lt;00:00, 40.4MB/s]"
          }
        },
        "66f7efed771d4a54b2dfd84c0efdc685": {
          "model_module": "@jupyter-widgets/base",
          "model_name": "LayoutModel",
          "model_module_version": "1.2.0",
          "state": {
            "_model_module": "@jupyter-widgets/base",
            "_model_module_version": "1.2.0",
            "_model_name": "LayoutModel",
            "_view_count": null,
            "_view_module": "@jupyter-widgets/base",
            "_view_module_version": "1.2.0",
            "_view_name": "LayoutView",
            "align_content": null,
            "align_items": null,
            "align_self": null,
            "border": null,
            "bottom": null,
            "display": null,
            "flex": null,
            "flex_flow": null,
            "grid_area": null,
            "grid_auto_columns": null,
            "grid_auto_flow": null,
            "grid_auto_rows": null,
            "grid_column": null,
            "grid_gap": null,
            "grid_row": null,
            "grid_template_areas": null,
            "grid_template_columns": null,
            "grid_template_rows": null,
            "height": null,
            "justify_content": null,
            "justify_items": null,
            "left": null,
            "margin": null,
            "max_height": null,
            "max_width": null,
            "min_height": null,
            "min_width": null,
            "object_fit": null,
            "object_position": null,
            "order": null,
            "overflow": null,
            "overflow_x": null,
            "overflow_y": null,
            "padding": null,
            "right": null,
            "top": null,
            "visibility": null,
            "width": null
          }
        },
        "b5aafcf878c5421e88f1f67135f8274f": {
          "model_module": "@jupyter-widgets/base",
          "model_name": "LayoutModel",
          "model_module_version": "1.2.0",
          "state": {
            "_model_module": "@jupyter-widgets/base",
            "_model_module_version": "1.2.0",
            "_model_name": "LayoutModel",
            "_view_count": null,
            "_view_module": "@jupyter-widgets/base",
            "_view_module_version": "1.2.0",
            "_view_name": "LayoutView",
            "align_content": null,
            "align_items": null,
            "align_self": null,
            "border": null,
            "bottom": null,
            "display": null,
            "flex": null,
            "flex_flow": null,
            "grid_area": null,
            "grid_auto_columns": null,
            "grid_auto_flow": null,
            "grid_auto_rows": null,
            "grid_column": null,
            "grid_gap": null,
            "grid_row": null,
            "grid_template_areas": null,
            "grid_template_columns": null,
            "grid_template_rows": null,
            "height": null,
            "justify_content": null,
            "justify_items": null,
            "left": null,
            "margin": null,
            "max_height": null,
            "max_width": null,
            "min_height": null,
            "min_width": null,
            "object_fit": null,
            "object_position": null,
            "order": null,
            "overflow": null,
            "overflow_x": null,
            "overflow_y": null,
            "padding": null,
            "right": null,
            "top": null,
            "visibility": null,
            "width": null
          }
        },
        "f275a1e194614dd694ea8599d7e88503": {
          "model_module": "@jupyter-widgets/controls",
          "model_name": "DescriptionStyleModel",
          "model_module_version": "1.5.0",
          "state": {
            "_model_module": "@jupyter-widgets/controls",
            "_model_module_version": "1.5.0",
            "_model_name": "DescriptionStyleModel",
            "_view_count": null,
            "_view_module": "@jupyter-widgets/base",
            "_view_module_version": "1.2.0",
            "_view_name": "StyleView",
            "description_width": ""
          }
        },
        "e27a3ecfe0e8446e98009dd8393c39ca": {
          "model_module": "@jupyter-widgets/base",
          "model_name": "LayoutModel",
          "model_module_version": "1.2.0",
          "state": {
            "_model_module": "@jupyter-widgets/base",
            "_model_module_version": "1.2.0",
            "_model_name": "LayoutModel",
            "_view_count": null,
            "_view_module": "@jupyter-widgets/base",
            "_view_module_version": "1.2.0",
            "_view_name": "LayoutView",
            "align_content": null,
            "align_items": null,
            "align_self": null,
            "border": null,
            "bottom": null,
            "display": null,
            "flex": null,
            "flex_flow": null,
            "grid_area": null,
            "grid_auto_columns": null,
            "grid_auto_flow": null,
            "grid_auto_rows": null,
            "grid_column": null,
            "grid_gap": null,
            "grid_row": null,
            "grid_template_areas": null,
            "grid_template_columns": null,
            "grid_template_rows": null,
            "height": null,
            "justify_content": null,
            "justify_items": null,
            "left": null,
            "margin": null,
            "max_height": null,
            "max_width": null,
            "min_height": null,
            "min_width": null,
            "object_fit": null,
            "object_position": null,
            "order": null,
            "overflow": null,
            "overflow_x": null,
            "overflow_y": null,
            "padding": null,
            "right": null,
            "top": null,
            "visibility": null,
            "width": null
          }
        },
        "5791b9cb1b5b4305beaeef5d0ddf64ec": {
          "model_module": "@jupyter-widgets/controls",
          "model_name": "ProgressStyleModel",
          "model_module_version": "1.5.0",
          "state": {
            "_model_module": "@jupyter-widgets/controls",
            "_model_module_version": "1.5.0",
            "_model_name": "ProgressStyleModel",
            "_view_count": null,
            "_view_module": "@jupyter-widgets/base",
            "_view_module_version": "1.2.0",
            "_view_name": "StyleView",
            "bar_color": null,
            "description_width": ""
          }
        },
        "20ccbd2c19694387a46909557a688567": {
          "model_module": "@jupyter-widgets/base",
          "model_name": "LayoutModel",
          "model_module_version": "1.2.0",
          "state": {
            "_model_module": "@jupyter-widgets/base",
            "_model_module_version": "1.2.0",
            "_model_name": "LayoutModel",
            "_view_count": null,
            "_view_module": "@jupyter-widgets/base",
            "_view_module_version": "1.2.0",
            "_view_name": "LayoutView",
            "align_content": null,
            "align_items": null,
            "align_self": null,
            "border": null,
            "bottom": null,
            "display": null,
            "flex": null,
            "flex_flow": null,
            "grid_area": null,
            "grid_auto_columns": null,
            "grid_auto_flow": null,
            "grid_auto_rows": null,
            "grid_column": null,
            "grid_gap": null,
            "grid_row": null,
            "grid_template_areas": null,
            "grid_template_columns": null,
            "grid_template_rows": null,
            "height": null,
            "justify_content": null,
            "justify_items": null,
            "left": null,
            "margin": null,
            "max_height": null,
            "max_width": null,
            "min_height": null,
            "min_width": null,
            "object_fit": null,
            "object_position": null,
            "order": null,
            "overflow": null,
            "overflow_x": null,
            "overflow_y": null,
            "padding": null,
            "right": null,
            "top": null,
            "visibility": null,
            "width": null
          }
        },
        "2ec48f01af7342aca5233645f90e8657": {
          "model_module": "@jupyter-widgets/controls",
          "model_name": "DescriptionStyleModel",
          "model_module_version": "1.5.0",
          "state": {
            "_model_module": "@jupyter-widgets/controls",
            "_model_module_version": "1.5.0",
            "_model_name": "DescriptionStyleModel",
            "_view_count": null,
            "_view_module": "@jupyter-widgets/base",
            "_view_module_version": "1.2.0",
            "_view_name": "StyleView",
            "description_width": ""
          }
        }
      }
    }
  },
  "nbformat": 4,
  "nbformat_minor": 0
}